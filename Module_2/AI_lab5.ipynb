{
  "nbformat": 4,
  "nbformat_minor": 0,
  "metadata": {
    "colab": {
      "provenance": []
    },
    "kernelspec": {
      "name": "python3",
      "display_name": "Python 3"
    },
    "language_info": {
      "name": "python"
    }
  },
  "cells": [
    {
      "cell_type": "code",
      "execution_count": null,
      "metadata": {
        "id": "VSSWtBybb1ye"
      },
      "outputs": [],
      "source": [
        "import pandas as pd\n",
        "import numpy as np\n",
        "import matplotlib.pyplot as plt"
      ]
    },
    {
      "cell_type": "code",
      "source": [
        "data = pd.read_csv('/content/WineDataset.csv', delimiter=',')\n",
        "print(data)"
      ],
      "metadata": {
        "colab": {
          "base_uri": "https://localhost:8080/"
        },
        "id": "UrzljWyyb5mZ",
        "outputId": "d73688bf-1efb-4666-f23e-566b8ebdaae0"
      },
      "execution_count": null,
      "outputs": [
        {
          "output_type": "stream",
          "name": "stdout",
          "text": [
            "     Alcohol  Malic Acid   Ash  Alcalinity of ash  Magnesium  Total phenols  \\\n",
            "0      14.23        1.71  2.43               15.6      127.0           2.80   \n",
            "1      13.20        1.78  2.14               11.2      100.0           2.65   \n",
            "2      13.16        2.36  2.67               18.6      101.0           2.80   \n",
            "3      14.37        1.95  2.50               16.8      113.0           3.85   \n",
            "4      13.24        2.59  2.87               21.0      118.0           2.80   \n",
            "..       ...         ...   ...                ...        ...            ...   \n",
            "173    13.71        5.65  2.45               20.5       95.0           1.68   \n",
            "174    13.40        3.91  2.48               23.0      102.0           1.80   \n",
            "175    13.27        4.28  2.26               20.0      120.0           1.59   \n",
            "176    13.17        2.59  2.37               20.0      120.0           1.65   \n",
            "177    14.13        4.10  2.74               24.5       96.0           2.05   \n",
            "\n",
            "     Flavanoids  Nonflavanoid phenols  Proanthocyanins  Color intensity   Hue  \\\n",
            "0          3.06                  0.28             2.29             5.64  1.04   \n",
            "1          2.76                  0.26             1.28             4.38  1.05   \n",
            "2          3.24                  0.30             2.81             5.68  1.03   \n",
            "3          3.49                  0.24             2.18             7.80  0.86   \n",
            "4          2.69                  0.39             1.82             4.32  1.04   \n",
            "..          ...                   ...              ...              ...   ...   \n",
            "173        0.61                  0.52             1.06             7.70  0.64   \n",
            "174        0.75                  0.43             1.41             7.30  0.70   \n",
            "175        0.69                  0.43             1.35            10.20  0.59   \n",
            "176        0.68                  0.53             1.46             9.30  0.60   \n",
            "177        0.76                  0.56             1.35             9.20  0.61   \n",
            "\n",
            "     OD280/OD315 of diluted wines  Proline  Wine  \n",
            "0                            3.92   1065.0     1  \n",
            "1                            3.40   1050.0     1  \n",
            "2                            3.17   1185.0     1  \n",
            "3                            3.45   1480.0     1  \n",
            "4                            2.93    735.0     1  \n",
            "..                            ...      ...   ...  \n",
            "173                          1.74    740.0     3  \n",
            "174                          1.56    750.0     3  \n",
            "175                          1.56    835.0     3  \n",
            "176                          1.62    840.0     3  \n",
            "177                          1.60    560.0     3  \n",
            "\n",
            "[178 rows x 14 columns]\n"
          ]
        }
      ]
    },
    {
      "cell_type": "code",
      "source": [
        "missing_values = data.isnull().sum()\n",
        "print(missing_values)"
      ],
      "metadata": {
        "id": "P-ubfW5scFEO"
      },
      "execution_count": null,
      "outputs": []
    },
    {
      "cell_type": "markdown",
      "source": [
        "\n",
        "\n",
        "1.   **Отсутвующих значений нет :)**\n",
        "2. ***Категориальных признаков нет :)***\n",
        "\n",
        "\n",
        "\n",
        "\n"
      ],
      "metadata": {
        "id": "34iz5PBscNv4"
      }
    },
    {
      "cell_type": "code",
      "source": [
        "from sklearn.model_selection import train_test_split\n",
        "from sklearn.preprocessing import StandardScaler\n",
        "\n",
        "# Масштабирование признаков\n",
        "scaler = StandardScaler()\n",
        "# Исключаем столбец \"Wine\" (последний)\n",
        "data.iloc[:, :-1] = scaler.fit_transform(data.iloc[:, :-1])\n",
        "print(data.iloc[:,:-1])\n",
        "# Разделение данных на обучающий и тестовый наборы\n",
        "X = data.iloc[:, :-1]\n",
        "y = data['Wine']\n",
        "X_train, X_test, y_train, y_test = train_test_split(X, y, test_size=0.2, random_state=42)"
      ],
      "metadata": {
        "colab": {
          "base_uri": "https://localhost:8080/"
        },
        "id": "Wjk55xz8cTAb",
        "outputId": "a1f38ff2-e84e-4dd6-cc4e-d60eac8ddf37"
      },
      "execution_count": null,
      "outputs": [
        {
          "output_type": "stream",
          "name": "stdout",
          "text": [
            "      Alcohol  Malic Acid       Ash  Alcalinity of ash  Magnesium  \\\n",
            "0    1.518613   -0.562250  0.232053          -1.169593   1.913905   \n",
            "1    0.246290   -0.499413 -0.827996          -2.490847   0.018145   \n",
            "2    0.196879    0.021231  1.109334          -0.268738   0.088358   \n",
            "3    1.691550   -0.346811  0.487926          -0.809251   0.930918   \n",
            "4    0.295700    0.227694  1.840403           0.451946   1.281985   \n",
            "..        ...         ...       ...                ...        ...   \n",
            "173  0.876275    2.974543  0.305159           0.301803  -0.332922   \n",
            "174  0.493343    1.412609  0.414820           1.052516   0.158572   \n",
            "175  0.332758    1.744744 -0.389355           0.151661   1.422412   \n",
            "176  0.209232    0.227694  0.012732           0.151661   1.422412   \n",
            "177  1.395086    1.583165  1.365208           1.502943  -0.262708   \n",
            "\n",
            "     Total phenols  Flavanoids  Nonflavanoid phenols  Proanthocyanins  \\\n",
            "0         0.808997    1.034819             -0.659563         1.224884   \n",
            "1         0.568648    0.733629             -0.820719        -0.544721   \n",
            "2         0.808997    1.215533             -0.498407         2.135968   \n",
            "3         2.491446    1.466525             -0.981875         1.032155   \n",
            "4         0.808997    0.663351              0.226796         0.401404   \n",
            "..             ...         ...                   ...              ...   \n",
            "173      -0.985614   -1.424900              1.274310        -0.930179   \n",
            "174      -0.793334   -1.284344              0.549108        -0.316950   \n",
            "175      -1.129824   -1.344582              0.549108        -0.422075   \n",
            "176      -1.033684   -1.354622              1.354888        -0.229346   \n",
            "177      -0.392751   -1.274305              1.596623        -0.422075   \n",
            "\n",
            "     Color intensity       Hue  OD280/OD315 of diluted wines   Proline  \n",
            "0           0.251717  0.362177                      1.847920  1.013009  \n",
            "1          -0.293321  0.406051                      1.113449  0.965242  \n",
            "2           0.269020  0.318304                      0.788587  1.395148  \n",
            "3           1.186068 -0.427544                      1.184071  2.334574  \n",
            "4          -0.319276  0.362177                      0.449601 -0.037874  \n",
            "..               ...       ...                           ...       ...  \n",
            "173         1.142811 -1.392758                     -1.231206 -0.021952  \n",
            "174         0.969783 -1.129518                     -1.485445  0.009893  \n",
            "175         2.224236 -1.612125                     -1.485445  0.280575  \n",
            "176         1.834923 -1.568252                     -1.400699  0.296498  \n",
            "177         1.791666 -1.524378                     -1.428948 -0.595160  \n",
            "\n",
            "[178 rows x 13 columns]\n"
          ]
        }
      ]
    },
    {
      "cell_type": "code",
      "source": [
        "\n",
        "\n",
        "def euclidean_distance(x1, x2):\n",
        "    return np.sqrt(np.sum((x1 - x2) ** 2))\n",
        "\n",
        "#класс KNN для реализации метода k-ближайших соседей.\n",
        "class KNN:\n",
        "    def __init__(self, k=3):\n",
        "        self.k = k\n",
        "\n",
        "    def fit(self, X, y):\n",
        "        self.X_train = X\n",
        "        self.y_train = y\n",
        "\n",
        "    def predict(self, x):\n",
        "        distances = [euclidean_distance(x, x_train) for x_train in self.X_train]\n",
        "        k_indices = np.argsort(distances)[:self.k]\n",
        "        k_nearest_labels = [self.y_train[i] for i in k_indices]\n",
        "        most_common = np.bincount(k_nearest_labels).argmax()\n",
        "        return most_common\n",
        "\n",
        "    def predict_batch(self, X):\n",
        "        predictions = [self.predict(x) for x in X]\n",
        "        return np.array(predictions)"
      ],
      "metadata": {
        "id": "-c6qEhSr_zi8"
      },
      "execution_count": null,
      "outputs": []
    },
    {
      "cell_type": "code",
      "source": [
        "from sklearn.metrics import confusion_matrix, accuracy_score,f1_score\n",
        "from prettytable import PrettyTable\n",
        "import random\n",
        "\n",
        "result = PrettyTable()\n",
        "result.field_names = [\"Model\",\"K\", \"Accuracy\", \"F1 Score\", \"Confusion Matrix\"]\n",
        "\n",
        "# Модель 1. Случайный набор признаков\n",
        "\n",
        "random_features = random.sample(X_train.columns.tolist(), 5)\n",
        "print(f\"Random Features: {random_features}\")\n",
        "\n",
        "# Модель 2. Первые 5 признаков\n",
        "fixed_features = X_train.columns.tolist()[:5]\n",
        "print(f\"Fixid Features: {fixed_features}\")\n",
        "\n",
        "# Значения k\n",
        "k_values = [2, 3, 5, 10, 12, 15, 20,  25]\n",
        "\n",
        "for k in k_values:\n",
        "    X_train_random = X_train[random_features]\n",
        "    X_test_random = X_test[random_features]\n",
        "\n",
        "    knn_random = knn_fixed = KNN(k=k)\n",
        "    knn_random.fit(X_train_random.to_numpy(), y_train.to_numpy())\n",
        "    predictions_random = knn_random.predict_batch(X_test_random.to_numpy())\n",
        "    # Оценка производительности модели\n",
        "    accuracy = accuracy_score(y_test, predictions_random)\n",
        "    f1 = f1_score(y_test, predictions_random, average='weighted')\n",
        "    # Построение матрицы ошибок\n",
        "    cm = confusion_matrix(y_test, predictions_random)\n",
        "\n",
        "    result.add_row([\"Random Features\",k, round(accuracy,4), round(f1,4), cm])\n",
        "\n",
        "    X_train_fixed = X_train[fixed_features]\n",
        "    X_test_fixed = X_test[fixed_features]\n",
        "\n",
        "    knn_fixed.fit(X_train_fixed.to_numpy(), y_train.to_numpy())\n",
        "    predictions_fixed = knn_fixed.predict_batch(X_test_fixed.to_numpy())\n",
        "    # Оценка производительности модели\n",
        "    accuracy = accuracy_score(y_test, predictions_fixed)\n",
        "    f1 = f1_score(y_test, predictions_fixed, average='weighted')\n",
        "    # Построение матрицы ошибок\n",
        "    cm = confusion_matrix(y_test, predictions_fixed)\n",
        "    result.add_row([\"Fixed Features\",k, round(accuracy,4), round(f1,4), cm],divider=True)\n",
        "\n",
        "\n",
        "print(result)\n",
        "\n",
        "\n"
      ],
      "metadata": {
        "colab": {
          "base_uri": "https://localhost:8080/"
        },
        "id": "GlEoCf_MEDmD",
        "outputId": "6cfa7ea0-7fa9-440c-ba94-0bc6da6fe182"
      },
      "execution_count": null,
      "outputs": [
        {
          "output_type": "stream",
          "name": "stdout",
          "text": [
            "Random Features: ['Total phenols', 'OD280/OD315 of diluted wines', 'Proline', 'Magnesium', 'Alcalinity of ash']\n",
            "Fixid Features: ['Alcohol', 'Malic Acid', 'Ash', 'Alcalinity of ash', 'Magnesium']\n",
            "+-----------------+----+----------+----------+------------------+\n",
            "|      Model      | K  | Accuracy | F1 Score | Confusion Matrix |\n",
            "+-----------------+----+----------+----------+------------------+\n",
            "| Random Features | 2  |  0.9444  |  0.9423  |   [[14  0  0]    |\n",
            "|                 |    |          |          |    [ 0 14  0]    |\n",
            "|                 |    |          |          |    [ 0  2  6]]   |\n",
            "|  Fixed Features | 2  |  0.8056  |  0.7974  |   [[12  0  2]    |\n",
            "|                 |    |          |          |    [ 1 13  0]    |\n",
            "|                 |    |          |          |    [ 1  3  4]]   |\n",
            "+-----------------+----+----------+----------+------------------+\n",
            "| Random Features | 3  |  0.9444  |  0.9423  |   [[14  0  0]    |\n",
            "|                 |    |          |          |    [ 0 14  0]    |\n",
            "|                 |    |          |          |    [ 0  2  6]]   |\n",
            "|  Fixed Features | 3  |  0.9167  |  0.9175  |   [[12  0  2]    |\n",
            "|                 |    |          |          |    [ 0 14  0]    |\n",
            "|                 |    |          |          |    [ 0  1  7]]   |\n",
            "+-----------------+----+----------+----------+------------------+\n",
            "| Random Features | 5  |  0.9444  |  0.9436  |   [[14  0  0]    |\n",
            "|                 |    |          |          |    [ 1 12  1]    |\n",
            "|                 |    |          |          |    [ 0  0  8]]   |\n",
            "|  Fixed Features | 5  |  0.8611  |  0.8671  |   [[11  0  3]    |\n",
            "|                 |    |          |          |    [ 0 13  1]    |\n",
            "|                 |    |          |          |    [ 0  1  7]]   |\n",
            "+-----------------+----+----------+----------+------------------+\n",
            "| Random Features | 10 |  0.9444  |  0.9444  |   [[14  0  0]    |\n",
            "|                 |    |          |          |    [ 0 13  1]    |\n",
            "|                 |    |          |          |    [ 0  1  7]]   |\n",
            "|  Fixed Features | 10 |  0.9167  |  0.9175  |   [[12  0  2]    |\n",
            "|                 |    |          |          |    [ 0 14  0]    |\n",
            "|                 |    |          |          |    [ 0  1  7]]   |\n",
            "+-----------------+----+----------+----------+------------------+\n",
            "| Random Features | 12 |  0.9444  |  0.9444  |   [[14  0  0]    |\n",
            "|                 |    |          |          |    [ 0 13  1]    |\n",
            "|                 |    |          |          |    [ 0  1  7]]   |\n",
            "|  Fixed Features | 12 |  0.8889  |  0.8905  |   [[11  0  3]    |\n",
            "|                 |    |          |          |    [ 0 14  0]    |\n",
            "|                 |    |          |          |    [ 0  1  7]]   |\n",
            "+-----------------+----+----------+----------+------------------+\n",
            "| Random Features | 15 |  0.9444  |  0.9444  |   [[14  0  0]    |\n",
            "|                 |    |          |          |    [ 0 13  1]    |\n",
            "|                 |    |          |          |    [ 0  1  7]]   |\n",
            "|  Fixed Features | 15 |  0.9167  |  0.9175  |   [[12  0  2]    |\n",
            "|                 |    |          |          |    [ 0 14  0]    |\n",
            "|                 |    |          |          |    [ 0  1  7]]   |\n",
            "+-----------------+----+----------+----------+------------------+\n",
            "| Random Features | 20 |  0.9444  |  0.9444  |   [[14  0  0]    |\n",
            "|                 |    |          |          |    [ 0 13  1]    |\n",
            "|                 |    |          |          |    [ 0  1  7]]   |\n",
            "|  Fixed Features | 20 |  0.8889  |  0.8886  |   [[12  0  2]    |\n",
            "|                 |    |          |          |    [ 0 14  0]    |\n",
            "|                 |    |          |          |    [ 0  2  6]]   |\n",
            "+-----------------+----+----------+----------+------------------+\n",
            "| Random Features | 25 |  0.9722  |  0.9725  |   [[14  0  0]    |\n",
            "|                 |    |          |          |    [ 0 13  1]    |\n",
            "|                 |    |          |          |    [ 0  0  8]]   |\n",
            "|  Fixed Features | 25 |  0.9167  |  0.9175  |   [[12  0  2]    |\n",
            "|                 |    |          |          |    [ 0 14  0]    |\n",
            "|                 |    |          |          |    [ 0  1  7]]   |\n",
            "+-----------------+----+----------+----------+------------------+\n"
          ]
        }
      ]
    }
  ]
}